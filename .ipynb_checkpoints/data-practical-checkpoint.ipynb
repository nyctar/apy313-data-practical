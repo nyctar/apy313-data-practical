{
 "cells": [
  {
   "cell_type": "code",
   "execution_count": null,
   "id": "2e88da68-1fe4-4c26-871f-9244b51c2529",
   "metadata": {},
   "outputs": [],
   "source": []
  }
 ],
 "metadata": {
  "kernelspec": {
   "display_name": "Stability AI",
   "language": "python",
   "name": "stability_ai"
  },
  "language_info": {
   "codemirror_mode": {
    "name": "ipython",
    "version": 3
   },
   "file_extension": ".py",
   "mimetype": "text/x-python",
   "name": "python",
   "nbconvert_exporter": "python",
   "pygments_lexer": "ipython3",
   "version": "3.10.16"
  }
 },
 "nbformat": 4,
 "nbformat_minor": 5
}
